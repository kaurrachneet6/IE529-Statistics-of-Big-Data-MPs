{
 "cells": [
  {
   "cell_type": "markdown",
   "metadata": {
    "collapsed": false
   },
   "source": [
    "# Appendix 5: Python code for Spectral Clustering Algorithm "
   ]
  },
  {
   "cell_type": "code",
   "execution_count": 1355,
   "metadata": {
    "collapsed": true
   },
   "outputs": [],
   "source": [
    "import numpy as np\n",
    "import pandas as pd\n",
    "from scipy import linalg\n",
    "import matplotlib.pyplot as plt\n",
    "import time\n",
    "import warnings\n",
    "warnings.filterwarnings(\"ignore\")"
   ]
  },
  {
   "cell_type": "markdown",
   "metadata": {},
   "source": [
    "# Llyods' algorithm"
   ]
  },
  {
   "cell_type": "code",
   "execution_count": 1356,
   "metadata": {
    "collapsed": true
   },
   "outputs": [],
   "source": [
    "#Implementing the Llyods' algorithm\n",
    "#Input: X - Data Matrix, K - No. of centers, tol - Tolerance level to be used\n",
    "#Output: Y - K Centroids, C - Cluster assignment, D - Final distance value\n",
    "def Llyods_Algo(X, K, tol):\n",
    "    D_old = 0.\n",
    "    Y = X[np.random.choice(X.shape[0], K, replace=False)]  # Initialize K random centroids  \n",
    "    D_new, C = cluster_points(X, Y)      # Assign points in X to clusters\n",
    "    while not if_converged(D_old, D_new, tol):\n",
    "        D_old = D_new\n",
    "        Y = compute_centroids(X, C, K)      # Recompute the centroids\n",
    "        D_new, C = cluster_points(X, Y)      # Assign points in X to clusters\n",
    "    return(Y, C, D_new)"
   ]
  },
  {
   "cell_type": "markdown",
   "metadata": {},
   "source": [
    "$\\textbf{Function to compute the square of euclidean norm of the vector}$"
   ]
  },
  {
   "cell_type": "code",
   "execution_count": 1357,
   "metadata": {
    "collapsed": true
   },
   "outputs": [],
   "source": [
    "#Function to compute the squared L-2 norm of the vector\n",
    "def norm_vec(vec):\n",
    "    return sum(vec**2)"
   ]
  },
  {
   "cell_type": "markdown",
   "metadata": {},
   "source": [
    "$\\textbf{Function to cluster points to the nearest centroids}$"
   ]
  },
  {
   "cell_type": "code",
   "execution_count": 1358,
   "metadata": {
    "collapsed": true
   },
   "outputs": [],
   "source": [
    "# Function to cluster points to the nearest centroids \n",
    "# Input: X - Data Matrix, Y - Centroids \n",
    "# Output: Returns the total distance and the cluster assignments\n",
    "def cluster_points(X, Y):\n",
    "    #List for cluster assignments (C[i] = j meaning that i_th point gets assigned to the j_th centroid)\n",
    "    C = []\n",
    "    D = 0. #Total distance of each point from its nearest centroid \n",
    "    #We compute the distances of each point from all centroids and assign point to its nearest centroid \n",
    "    for x in X:\n",
    "        dists=[norm_vec(x-y) for y in Y]\n",
    "        D+=np.sqrt(min(dists)) #Adding the distance from a point to its nearest centroid \n",
    "        C.append(np.argmin(dists)) #Assigning the point to its nearest centroid \n",
    "    D = D/X.shape[0]\n",
    "    return (D, C) #Returns the total distance and the cluster assignments "
   ]
  },
  {
   "cell_type": "markdown",
   "metadata": {},
   "source": [
    "$\\textbf{Function to recompute the centroids after cluster assignments}$"
   ]
  },
  {
   "cell_type": "code",
   "execution_count": 1359,
   "metadata": {
    "collapsed": true
   },
   "outputs": [],
   "source": [
    "#Function to create the new centroids\n",
    "# Input: X - Data Matrix, C - Clusters assignment, K - no. of centers \n",
    "# Output: Returns the new centroids Y\n",
    "def compute_centroids(X, C, K):\n",
    "    Y = np.zeros((K, X.shape[1])) # Y - K*d matrix of K new centroids \n",
    "    for i in range(K):\n",
    "        points = [j for j in range(len(C)) if C[j]==i ]  #Collecting all the points corresponding to a particular centroid\n",
    "        Y[i] = np.mean(X[points], axis=0) #Taking the mean of points corresponding to the centroid as the new centroid \n",
    "    return (Y)"
   ]
  },
  {
   "cell_type": "markdown",
   "metadata": {},
   "source": [
    "$\\textbf{Function to check when the Llyods' algorithm is converged'}$"
   ]
  },
  {
   "cell_type": "code",
   "execution_count": 1360,
   "metadata": {
    "collapsed": true
   },
   "outputs": [],
   "source": [
    "#Function to check if Llyod's algorithm has converged using |D_{p+1} - D_p| < tolerance \n",
    "#Input: D_{p+1}, D_p (Sum of distances from each point to its nearest centroid before and after recomputing the centroids) &\n",
    "#       tol - tolerance level to be used to decide convergence\n",
    "#Output: 1 - Converged, 0 - Not converged\n",
    "def if_converged(D_old, D_new, tol):\n",
    "    converge = np.abs(D_new-D_old) < tol\n",
    "    return converge"
   ]
  },
  {
   "cell_type": "markdown",
   "metadata": {},
   "source": [
    "# Spectral clustering"
   ]
  },
  {
   "cell_type": "code",
   "execution_count": 1361,
   "metadata": {
    "collapsed": true
   },
   "outputs": [],
   "source": [
    "#Spectral clustering\n",
    "# Input: data - Data matrix, K_cluster - No. of clusters required, tol - Tolerance level\n",
    "# Output: C - Cluster assignment for the data points\n",
    "def Spectral_Clustering(data, K_cluster, tol):\n",
    "    #sigma = float(input('Enter the sigma value: '))\n",
    "    sigma = 1.22\n",
    "    S = gaussian_similarity(data, sigma) # Gaussian Similarity matrix\n",
    "    #K_neighbours = int(input('Enter the no. of nearest neighbours for KNN structure: '))\n",
    "    K_neighbours = 15\n",
    "    W = weighted_adjacency(S, K_neighbours) # Weighted adjacency matrix\n",
    "    row_sums = W.sum(axis = 1) # Row sums of the adjacency matrix\n",
    "    D = np.diag(row_sums) #Diagonal matrix with the entries as row sums of the adjacency matrix\n",
    "    L = D - W  #Laplacian Matrix \n",
    "    eig_val, eig_vec = linalg.eig(L) #Computing the eigen values and eigen vectors for the Laplacian Matrix\n",
    "    # No. of eigenvectors to be chosen = No. of clusters we want i.e. K_cluster\n",
    "    K_eigen = K_cluster\n",
    "    k_smallest = np.argsort(eig_val)[:K_eigen] #Selecting the K smallest eigen values \n",
    "    U = eig_vec[:,k_smallest] #Selecting the eigen vectors for the K smallest eigen values \n",
    "    trials = 20 #Running the Llyods algorithm for several trails \n",
    "    Dist = 1000\n",
    "    for i in range(trials): #Over several trails, choosing the best result\n",
    "        Y_try, C_try, Dist_try = Llyods_Algo(U, K_cluster, tol)\n",
    "        if (Dist_try<Dist):\n",
    "            Dist = Dist_try\n",
    "            C = C_try\n",
    "            Y = Y_try\n",
    "    return C\n",
    "\n",
    "    "
   ]
  },
  {
   "cell_type": "markdown",
   "metadata": {},
   "source": [
    "$\\textbf{Function to compute square euclidean norm for matrix}$"
   ]
  },
  {
   "cell_type": "code",
   "execution_count": 1362,
   "metadata": {
    "collapsed": true
   },
   "outputs": [],
   "source": [
    "#Function to compute the norm of each vector in the matrix\n",
    "def norm(mat):\n",
    "    return np.sum(mat**2, axis = 1)"
   ]
  },
  {
   "cell_type": "markdown",
   "metadata": {},
   "source": [
    "$\\textbf{Gaussian Similarity matrix}$"
   ]
  },
  {
   "cell_type": "code",
   "execution_count": 1363,
   "metadata": {
    "collapsed": true
   },
   "outputs": [],
   "source": [
    "#Function to compute the Gaussian similarity matrix S \n",
    "def gaussian_similarity(X, sigma):\n",
    "    S = np.zeros((X.shape[0], X.shape[0]))\n",
    "    for i in range(S.shape[0]):\n",
    "        S[i] = np.exp(-(norm(X[i]-X)/(2.*sigma**2)))\n",
    "    return S"
   ]
  },
  {
   "cell_type": "markdown",
   "metadata": {},
   "source": [
    "$\\textbf{Computing the weighted adjacency matrix}$"
   ]
  },
  {
   "cell_type": "code",
   "execution_count": 1364,
   "metadata": {
    "collapsed": true
   },
   "outputs": [],
   "source": [
    "def weighted_adjacency(S, K):\n",
    "    A = np.zeros((S.shape[0], S.shape[1]))\n",
    "    for i in range(S.shape[0]):\n",
    "        A[i, (np.argsort(S[i])[::-1])[:K+1]] = 1\n",
    "    W = S*A   \n",
    "    return W    "
   ]
  },
  {
   "cell_type": "markdown",
   "metadata": {},
   "source": [
    "$\\textbf{Function to compute the centers of the Clustering obtained}$"
   ]
  },
  {
   "cell_type": "code",
   "execution_count": 1365,
   "metadata": {
    "collapsed": true
   },
   "outputs": [],
   "source": [
    "def centers(K_spec, Ctrs):\n",
    "    Y_centers = np.zeros((K_spec, data.shape[1]))\n",
    "    for i in range(K_spec):\n",
    "        Y_centers[i] = np.mean([data[j,:] for j in range(data.shape[0]) if Ctrs[j] == i ], axis = 0)\n",
    "    return Y_centers"
   ]
  },
  {
   "cell_type": "markdown",
   "metadata": {},
   "source": [
    "$\\textbf{Function to compute distance metric}$"
   ]
  },
  {
   "cell_type": "code",
   "execution_count": 1366,
   "metadata": {
    "collapsed": true
   },
   "outputs": [],
   "source": [
    "#Average intra cluster distance metric D after clustering \n",
    "def dist(Y, C):\n",
    "    D=0.\n",
    "    for i in range(K):\n",
    "        points = [j for j in range(len(C)) if C[j]==i ]  #Collecting all the points corresponding to a particular centroid\n",
    "        D+=sum(np.sqrt(norm(data[points] - Y[i]))) #Taking the mean of points corresponding to the centroid as the new centroid \n",
    "    D = D/data.shape[0]\n",
    "    return D"
   ]
  },
  {
   "cell_type": "markdown",
   "metadata": {},
   "source": [
    "$\\textbf{Function to plot clusters and centroids}$"
   ]
  },
  {
   "cell_type": "code",
   "execution_count": 1380,
   "metadata": {
    "collapsed": true
   },
   "outputs": [],
   "source": [
    "#Plotting the clusters and the centroids \n",
    "#Input: X - Data Matrix, Y - Centroids, C - Cluster assignment\n",
    "def plot_clusters(data, Y, C):\n",
    "    plt.figure()\n",
    "    plt.scatter(data[:,0], data[:,1], c=C)\n",
    "    plt.plot(Y[:,0], Y[:,1], 'Xr', label = 'Centroids')\n",
    "    plt.legend()\n",
    "    plt.title('Spectral Clustering for K = '+ str(len(Y)))\n",
    "    plt.savefig('Results\\Spectral\\Data2_tol2_'+ str(len(Y)))\n",
    "    plt.show()"
   ]
  },
  {
   "cell_type": "markdown",
   "metadata": {},
   "source": [
    "$\\textbf{Function to plot Cost against K values}$"
   ]
  },
  {
   "cell_type": "code",
   "execution_count": 1381,
   "metadata": {
    "collapsed": true
   },
   "outputs": [],
   "source": [
    "#Elbow point in the plot for Average Distance versus K values\n",
    "def D_Kplot(K_list, D_list):\n",
    "    plt.plot(K_list, D_list, '*-b')\n",
    "    plt.title('Plot of Distance versus K')\n",
    "    plt.xlabel('K values')\n",
    "    plt.ylabel(' Distortion values D')\n",
    "    plt.show()"
   ]
  },
  {
   "cell_type": "markdown",
   "metadata": {},
   "source": [
    "$\\textbf{Function to plot Running time against K values}$"
   ]
  },
  {
   "cell_type": "code",
   "execution_count": 1382,
   "metadata": {
    "collapsed": true
   },
   "outputs": [],
   "source": [
    "#Time complexity for varying K values \n",
    "def time_complexity(K_list, time_list):\n",
    "    plt.plot(K_list, time_list, '*-b')\n",
    "    plt.title('Plot of Running Time versus K')\n",
    "    plt.xlabel('K values')\n",
    "    plt.ylabel(' Running time T')\n",
    "    plt.show()"
   ]
  },
  {
   "cell_type": "markdown",
   "metadata": {},
   "source": [
    "$\\textbf{Reading the dataset and No. of clusters from the user}$"
   ]
  },
  {
   "cell_type": "code",
   "execution_count": 1388,
   "metadata": {
    "collapsed": false
   },
   "outputs": [
    {
     "name": "stdout",
     "output_type": "stream",
     "text": [
      "Enter the path for the dataset: Dataset_2/ShapedData.csv\n",
      "Enter the no. of clusters to be used: 4\n"
     ]
    }
   ],
   "source": [
    "path = input ('Enter the path for the dataset: ')\n",
    "data = pd.read_csv(path, header = None)\n",
    "data = np.asarray(data)\n",
    "\n",
    "K = int (input ('Enter the no. of clusters to be used: '))\n",
    "tol1 = 1e-5 #Tolerance Level 1\n",
    "tol2 = 1e-7 #Tolerance Level 2"
   ]
  },
  {
   "cell_type": "code",
   "execution_count": 1390,
   "metadata": {
    "collapsed": false
   },
   "outputs": [
    {
     "data": {
      "image/png": "[encoded data removed]",
      "text/plain": [
       "<matplotlib.figure.Figure at 0x1c902ec6f28>"
      ]
     },
     "metadata": {},
     "output_type": "display_data"
    },
    {
     "name": "stdout",
     "output_type": "stream",
     "text": [
      "The centroids are  [[ 1.35353385 -0.06245563]\n",
      " [ 4.95412587  0.02922527]\n",
      " [ 0.71258954  3.69727645]\n",
      " [-0.43282777 -3.531065  ]]\n",
      "Objective function average distance is:  1.69232621417\n"
     ]
    }
   ],
   "source": [
    "C = Spectral_Clustering(data, K, tol2)\n",
    "Y_centers = centers(K, C)\n",
    "plot_clusters(data, Y_centers, C)\n",
    "Dist = dist(Y_centers, C)\n",
    "\n",
    "print ('The centroids are ', Y_centers)\n",
    "print ('Objective function average distance is: ', Dist)"
   ]
  },
  {
   "cell_type": "code",
   "execution_count": null,
   "metadata": {
    "collapsed": true
   },
   "outputs": [],
   "source": []
  }
 ],
 "metadata": {
  "kernelspec": {
   "display_name": "Python 3",
   "language": "python",
   "name": "python3"
  },
  "language_info": {
   "codemirror_mode": {
    "name": "ipython",
    "version": 3
   },
   "file_extension": ".py",
   "mimetype": "text/x-python",
   "name": "python",
   "nbconvert_exporter": "python",
   "pygments_lexer": "ipython3",
   "version": "3.6.0"
  }
 },
 "nbformat": 4,
 "nbformat_minor": 2
}
