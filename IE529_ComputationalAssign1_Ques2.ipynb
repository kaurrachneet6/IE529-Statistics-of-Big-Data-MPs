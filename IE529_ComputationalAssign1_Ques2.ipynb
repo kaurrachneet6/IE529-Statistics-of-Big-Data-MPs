{
 "cells": [
  {
   "cell_type": "markdown",
   "metadata": {},
   "source": [
    "$\\textbf{IE529 Computational Assignment 1 Question 2}$\n",
    "\n",
    "$\\textbf{Regression Analysis}$"
   ]
  },
  {
   "cell_type": "code",
   "execution_count": 135,
   "metadata": {
    "collapsed": false
   },
   "outputs": [],
   "source": [
    "import pandas as pd\n",
    "import numpy as np\n",
    "import matplotlib.pyplot as plt\n",
    "from sklearn.linear_model import LinearRegression, LogisticRegression\n",
    "from sklearn import preprocessing"
   ]
  },
  {
   "cell_type": "code",
   "execution_count": 98,
   "metadata": {
    "collapsed": true
   },
   "outputs": [],
   "source": [
    "#Reading the data\n",
    "data=pd.read_csv('Comp1_IE529.csv',names=['lift_kg', 'put_m'])"
   ]
  },
  {
   "cell_type": "code",
   "execution_count": 99,
   "metadata": {
    "collapsed": false
   },
   "outputs": [],
   "source": [
    "X=data[['lift_kg']]\n",
    "Y=data['put_m']"
   ]
  },
  {
   "cell_type": "markdown",
   "metadata": {},
   "source": [
    "$\\textbf{Question 2 Part 1 Linear Regression fits}$"
   ]
  },
  {
   "cell_type": "markdown",
   "metadata": {},
   "source": [
    "$\\textbf{Fitting the simple linear regression model y=a+bx to the data, where x - lift_kg and y - put_m}$\n",
    "\n",
    "I am using scikit-learn package to perform the regression analysis by fitting the data"
   ]
  },
  {
   "cell_type": "code",
   "execution_count": 100,
   "metadata": {
    "collapsed": false
   },
   "outputs": [
    {
     "name": "stdout",
     "output_type": "stream",
     "text": [
      "The coefficients for fitted regression model are: a =  5.67957872805  and b =  0.0994776466256\n",
      "\n",
      "The simple linear regression line fitted is:  5.67957872805 + 0.0994776466256 x\n"
     ]
    }
   ],
   "source": [
    "#Fitting a simple linear regression model to the data\n",
    "regress = LinearRegression()\n",
    "regress.fit(X,Y)\n",
    "print('The coefficients for fitted regression model are: a = ', regress.intercept_,' and b = ',regress.coef_[0])\n",
    "print ('\\nThe simple linear regression line fitted is: ',regress.intercept_,'+',regress.coef_[0],'x')"
   ]
  },
  {
   "cell_type": "markdown",
   "metadata": {},
   "source": [
    "$\\textbf{Residual Sum of squares}$"
   ]
  },
  {
   "cell_type": "code",
   "execution_count": 101,
   "metadata": {
    "collapsed": false
   },
   "outputs": [
    {
     "name": "stdout",
     "output_type": "stream",
     "text": [
      "Residual sum of squares for simple linear regression model is: 94.5794789741\n"
     ]
    }
   ],
   "source": [
    "#Computing the Residual sum of squares for the simple linear regression model\n",
    "pred_slr = regress.predict(X)\n",
    "rss1 = sum((pred_slr-Y)**2)\n",
    "print ('Residual sum of squares for simple linear regression model is:', rss1)"
   ]
  },
  {
   "cell_type": "markdown",
   "metadata": {},
   "source": [
    "$\\textbf{Plotting the data and the fitted model}$"
   ]
  },
  {
   "cell_type": "code",
   "execution_count": 102,
   "metadata": {
    "collapsed": false
   },
   "outputs": [
    {
     "data": {
      "image/png": "[encoded data removed]",
      "text/plain": [
       "<matplotlib.figure.Figure at 0x1927b7641d0>"
      ]
     },
     "metadata": {},
     "output_type": "display_data"
    }
   ],
   "source": [
    "#Plotting the above fitted Simple Linear Regression model\n",
    "line=regress.intercept_ + regress.coef_[0] * X #Fitted line\n",
    "\n",
    "plt.figure(figsize=(8,6))\n",
    "plt.plot(X,Y,'or', label='Given data points')\n",
    "plt.plot(X,line,'-b', label = 'Simple Linear Regression Fit') \n",
    "plt.xlabel('lift_kg ----->')\n",
    "plt.ylabel('putt_m ------->')\n",
    "plt.legend()\n",
    "plt.title('Fitting simple linear regression to the dataset')\n",
    "plt.show()"
   ]
  },
  {
   "cell_type": "markdown",
   "metadata": {},
   "source": [
    "$\\textbf{Observation}$"
   ]
  },
  {
   "cell_type": "code",
   "execution_count": 119,
   "metadata": {
    "collapsed": false
   },
   "outputs": [
    {
     "name": "stdout",
     "output_type": "stream",
     "text": [
      "Clearly, the linear fit is not as good and RSS = 94.5 is pretty high.\n",
      "We must try to fit higher order polynomials to improve the fit and the prediction.\n"
     ]
    }
   ],
   "source": [
    "print ('Clearly, the linear fit is not as good and RSS = 94.5 is pretty high.')\n",
    "print ('We must try to fit higher order polynomials to improve the fit and the prediction.')"
   ]
  },
  {
   "cell_type": "markdown",
   "metadata": {},
   "source": [
    "**Fitting the second order polynomial regression model $y=a+bx+cx^2$ to the data, where x - lift_kg and y - put_m**"
   ]
  },
  {
   "cell_type": "code",
   "execution_count": 103,
   "metadata": {
    "collapsed": true
   },
   "outputs": [],
   "source": [
    "poly2 = preprocessing.PolynomialFeatures(2,interaction_only=False)\n",
    "X2=poly2.fit_transform(X)[:,1:] #Coefficient matrix for 2nd degree polynomial regression with X and X^2 terms"
   ]
  },
  {
   "cell_type": "code",
   "execution_count": 104,
   "metadata": {
    "collapsed": false
   },
   "outputs": [
    {
     "name": "stdout",
     "output_type": "stream",
     "text": [
      "The coefficients for fitted regression model are: a = -1.52544212418 , b = 0.279139231629\n",
      "and c = -0.00100638773116\n",
      "\n",
      "The 2nd order poly. regression line fitted is:  -1.52544212418 + 0.279139231629 x -0.00100638773116 x^2\n"
     ]
    }
   ],
   "source": [
    "regress.fit(X2,Y)\n",
    "print('The coefficients for fitted regression model are: a =', regress.intercept_,', b =',regress.coef_[0])\n",
    "print ('and c =',regress.coef_[1])\n",
    "print ('\\nThe 2nd order poly. regression line fitted is: ',regress.intercept_,'+',regress.coef_[0],'x',regress.coef_[1],'x^2')"
   ]
  },
  {
   "cell_type": "markdown",
   "metadata": {},
   "source": [
    "$\\textbf{Residual Sum of squares}$"
   ]
  },
  {
   "cell_type": "code",
   "execution_count": 105,
   "metadata": {
    "collapsed": false
   },
   "outputs": [
    {
     "name": "stdout",
     "output_type": "stream",
     "text": [
      "Residual sum of squares for second order poly. regression model is: 51.0810573979\n"
     ]
    }
   ],
   "source": [
    "#Computing the Residual sum of squares for the second order poly. regression model\n",
    "pred2 = regress.predict(X2)\n",
    "rss2 = sum((pred2-Y)**2)\n",
    "print ('Residual sum of squares for second order poly. regression model is:', rss2)"
   ]
  },
  {
   "cell_type": "markdown",
   "metadata": {},
   "source": [
    "$\\textbf{Plotting the data and the fitted model}$"
   ]
  },
  {
   "cell_type": "code",
   "execution_count": 106,
   "metadata": {
    "collapsed": false
   },
   "outputs": [
    {
     "data": {
      "image/png": "[encoded data removed]",
      "text/plain": [
       "<matplotlib.figure.Figure at 0x1927a5a4588>"
      ]
     },
     "metadata": {},
     "output_type": "display_data"
    }
   ],
   "source": [
    "#Plotting the above fitted second order poly. Regression model\n",
    "line=regress.intercept_ + regress.coef_[0] * X2[:,0] + regress.coef_[1]*X2[:,1]  #Fitted line \n",
    "plt.close()\n",
    "plt.figure(figsize=(8,6))\n",
    "plt.plot(X2[:,0],Y,'or', label='Given data points')\n",
    "plt.plot(sorted(X2[:,0]),sorted(line),'b-', label = 'Second order poly. Regression Fit') \n",
    "plt.xlabel('lift_kg ----->')\n",
    "plt.ylabel('putt_m ------->')\n",
    "plt.legend()\n",
    "plt.title('Fitting second order poly. regression to the dataset')\n",
    "plt.show()"
   ]
  },
  {
   "cell_type": "markdown",
   "metadata": {},
   "source": [
    "$\\textbf{Observation}$"
   ]
  },
  {
   "cell_type": "code",
   "execution_count": 122,
   "metadata": {
    "collapsed": false
   },
   "outputs": [
    {
     "name": "stdout",
     "output_type": "stream",
     "text": [
      "The second order polynomial regression model fits better and Residual sum of squares = 51.08 is comparitevely less.\n",
      "Clearly, second order regression polynomial fits the data better than simple linear regression.\n"
     ]
    }
   ],
   "source": [
    "print ('The second order polynomial regression model fits better and Residual sum of squares = 51.08 is comparitevely less.')\n",
    "print ('Clearly, second order regression polynomial fits the data better than simple linear regression.')"
   ]
  },
  {
   "cell_type": "markdown",
   "metadata": {},
   "source": [
    "**Fitting the third order polynomial regression model $y=a+bx+cx^2+dx^3$ to the data, where x - lift_kg and y - put_m**"
   ]
  },
  {
   "cell_type": "code",
   "execution_count": 107,
   "metadata": {
    "collapsed": true
   },
   "outputs": [],
   "source": [
    "poly3 = preprocessing.PolynomialFeatures(3,interaction_only=False)\n",
    "X3=poly3.fit_transform(X)[:,1:] #Coefficient matrix for 3rd degree polynomial regression with X, X^2, X^3 terms"
   ]
  },
  {
   "cell_type": "code",
   "execution_count": 108,
   "metadata": {
    "collapsed": false
   },
   "outputs": [
    {
     "name": "stdout",
     "output_type": "stream",
     "text": [
      "The coefficients for fitted regression model are: a = -9.40577764231 , b = 0.589406408403 ,\n",
      "c = -0.00467881756927 and d = 1.34768361497e-05\n",
      "\n",
      "The 3rd order poly. regression line fitted is:  -9.40577764231 + 0.589406408403 x -0.00467881756927 x^2+ 1.34768361497e-05 x^3\n"
     ]
    }
   ],
   "source": [
    "regress.fit(X3,Y)\n",
    "print('The coefficients for fitted regression model are: a =', regress.intercept_,', b =',regress.coef_[0],',')\n",
    "print ('c =',regress.coef_[1], 'and d =',regress.coef_[2])\n",
    "print ('\\nThe 3rd order poly. regression line fitted is: ',regress.intercept_,'+',regress.coef_[0],'x',regress.coef_[1],'x^2+',regress.coef_[2],'x^3')"
   ]
  },
  {
   "cell_type": "markdown",
   "metadata": {},
   "source": [
    "$\\textbf{Residual Sum of squares}$"
   ]
  },
  {
   "cell_type": "code",
   "execution_count": 109,
   "metadata": {
    "collapsed": false
   },
   "outputs": [
    {
     "name": "stdout",
     "output_type": "stream",
     "text": [
      "Residual sum of squares for third order poly. regression model is: 44.5729109596\n"
     ]
    }
   ],
   "source": [
    "#Computing the Residual sum of squares for the second order poly. regression model\n",
    "pred3 = regress.predict(X3)\n",
    "rss3 = sum((pred3-Y)**2)\n",
    "print ('Residual sum of squares for third order poly. regression model is:', rss3)"
   ]
  },
  {
   "cell_type": "markdown",
   "metadata": {},
   "source": [
    "$\\textbf{Plotting the data and the fitted model}$"
   ]
  },
  {
   "cell_type": "code",
   "execution_count": 110,
   "metadata": {
    "collapsed": false
   },
   "outputs": [
    {
     "data": {
      "image/png": "[encoded data removed]",
      "text/plain": [
       "<matplotlib.figure.Figure at 0x1927bb3fe80>"
      ]
     },
     "metadata": {},
     "output_type": "display_data"
    }
   ],
   "source": [
    "#Plotting the above fitted third order poly. Regression model\n",
    "line=regress.intercept_ + regress.coef_[0] * X3[:,0] + regress.coef_[1]*X3[:,1] + regress.coef_[2]*X3[:,2]  #Fitted line \n",
    "plt.close()\n",
    "plt.figure(figsize=(8,6))\n",
    "plt.plot(X3[:,0],Y,'or', label='Given data points')\n",
    "plt.plot(sorted(X3[:,0]),sorted(line),'b-', label = 'Third order poly. Regression Fit') \n",
    "plt.xlabel('lift_kg ----->')\n",
    "plt.ylabel('putt_m ------->')\n",
    "plt.legend()\n",
    "plt.title('Fitting third order poly. regression to the dataset')\n",
    "plt.show()"
   ]
  },
  {
   "cell_type": "markdown",
   "metadata": {},
   "source": [
    "$\\textbf{Observation}$"
   ]
  },
  {
   "cell_type": "code",
   "execution_count": 128,
   "metadata": {
    "collapsed": false
   },
   "outputs": [
    {
     "name": "stdout",
     "output_type": "stream",
     "text": [
      "Third order polynomial fits better. But clearly Residual sum of squares = 44.57 did not change much.\n",
      "Clearly, the change in RSS is not significant and indeed third order polynomial increased the complexity of the model.\n"
     ]
    }
   ],
   "source": [
    "print ('Third order polynomial fits better. But clearly Residual sum of squares = 44.57 did not change much.')\n",
    "print ('Clearly, the change in RSS is not significant and indeed third order polynomial increased the complexity of the model.')"
   ]
  },
  {
   "cell_type": "markdown",
   "metadata": {},
   "source": [
    "**Fitting the third order polynomial regression model $y=a+bx+cx^2+dx^3+ex^4$ to the data, where x - lift_kg and y - put_m**"
   ]
  },
  {
   "cell_type": "code",
   "execution_count": 111,
   "metadata": {
    "collapsed": true
   },
   "outputs": [],
   "source": [
    "poly4= preprocessing.PolynomialFeatures(4,interaction_only=False)\n",
    "X4=poly4.fit_transform(X)[:,1:] #Coefficient matrix for 4th degree polynomial regression with X, X^2, X^3, X^4 terms"
   ]
  },
  {
   "cell_type": "code",
   "execution_count": 112,
   "metadata": {
    "collapsed": false
   },
   "outputs": [
    {
     "name": "stdout",
     "output_type": "stream",
     "text": [
      "The coefficients for fitted regression model are: a = -12.2319195939 , b = 0.744663449192 ,\n",
      "c = -0.00763288542751 , d = 3.68434675809e-05 and e= -6.55551441948e-08\n",
      "\n",
      "The 4th order poly. regression line fitted is: \n",
      "-12.2319195939 + 0.744663449192 x -0.00763288542751 x^2+ 3.68434675809e-05 x^3 -6.55551441948e-08 x^4\n"
     ]
    }
   ],
   "source": [
    "regress.fit(X4,Y)\n",
    "print('The coefficients for fitted regression model are: a =', regress.intercept_,', b =',regress.coef_[0],',')\n",
    "print ('c =',regress.coef_[1], ', d =',regress.coef_[2], 'and e=' ,regress.coef_[3])\n",
    "print ('\\nThe 4th order poly. regression line fitted is: ')\n",
    "print(regress.intercept_,'+',regress.coef_[0],'x',regress.coef_[1],'x^2+',regress.coef_[2],'x^3',regress.coef_[3],'x^4')"
   ]
  },
  {
   "cell_type": "markdown",
   "metadata": {},
   "source": [
    "$\\textbf{Residual Sum of squares}$"
   ]
  },
  {
   "cell_type": "code",
   "execution_count": 113,
   "metadata": {
    "collapsed": false
   },
   "outputs": [
    {
     "name": "stdout",
     "output_type": "stream",
     "text": [
      "Residual sum of squares for fourth order poly. regression model is: 44.4651118142\n"
     ]
    }
   ],
   "source": [
    "#Computing the Residual sum of squares for the second order poly. regression model\n",
    "pred4= regress.predict(X4)\n",
    "rss4 = sum((pred4-Y)**2)\n",
    "print ('Residual sum of squares for fourth order poly. regression model is:', rss4)"
   ]
  },
  {
   "cell_type": "markdown",
   "metadata": {},
   "source": [
    "$\\textbf{Plotting the data and the fitted model}$"
   ]
  },
  {
   "cell_type": "code",
   "execution_count": 114,
   "metadata": {
    "collapsed": false
   },
   "outputs": [
    {
     "data": {
      "image/png": "[encoded data removed]",
      "text/plain": [
       "<matplotlib.figure.Figure at 0x1927b7c72b0>"
      ]
     },
     "metadata": {},
     "output_type": "display_data"
    }
   ],
   "source": [
    "#Plotting the above fitted fourth order poly. Regression model\n",
    "line=regress.intercept_ + regress.coef_[0] * X4[:,0]+regress.coef_[1]*X4[:,1]+regress.coef_[2]*X4[:,2]+regress.coef_[3]*X4[:,3] \n",
    "plt.close()\n",
    "plt.figure(figsize=(8,6))\n",
    "plt.plot(X4[:,0],Y,'or', label='Given data points')\n",
    "plt.plot(sorted(X4[:,0]),sorted(line),'b-', label = 'Fourth order poly. Regression Fit') \n",
    "plt.xlabel('lift_kg ----->')\n",
    "plt.ylabel('putt_m ------->')\n",
    "plt.legend()\n",
    "plt.title('Fitting fourth order poly. regression to the dataset')\n",
    "plt.show()"
   ]
  },
  {
   "cell_type": "markdown",
   "metadata": {},
   "source": [
    "$\\textbf{Observation}$"
   ]
  },
  {
   "cell_type": "code",
   "execution_count": 127,
   "metadata": {
    "collapsed": false
   },
   "outputs": [
    {
     "name": "stdout",
     "output_type": "stream",
     "text": [
      "Note that the Residual sum of sqaures for the fourth order polynomial fit = 44.46 improved just negligibly.\n",
      "This is not significant improvement compared to third order fit and indeed incresing the complexity of the model.\n"
     ]
    }
   ],
   "source": [
    "print ('Note that the Residual sum of sqaures for the fourth order polynomial fit = 44.46 improved just negligibly.')\n",
    "print ('This is not significant improvement compared to third order fit and indeed incresing the complexity of the model.')"
   ]
  },
  {
   "cell_type": "markdown",
   "metadata": {},
   "source": [
    "$\\textbf{Comparing the Residual Sum of squares for different models}$"
   ]
  },
  {
   "cell_type": "code",
   "execution_count": 117,
   "metadata": {
    "collapsed": false
   },
   "outputs": [
    {
     "data": {
      "image/png": "[encoded data removed]",
      "text/plain": [
       "<matplotlib.figure.Figure at 0x1927bc6a128>"
      ]
     },
     "metadata": {},
     "output_type": "display_data"
    }
   ],
   "source": [
    "rss_list = [rss1,rss2,rss3,rss4]\n",
    "label = [1,2,3,4]\n",
    "plt.plot(label,rss_list,'*-b')\n",
    "plt.xlabel('Order of polynomial regression fit ------->')\n",
    "plt.ylabel('Residual Sum of squares ------>')\n",
    "plt.title('Residual sum of squares for various polynomial regression fits')\n",
    "plt.show()"
   ]
  },
  {
   "cell_type": "markdown",
   "metadata": {},
   "source": [
    "$\\textbf{Note that 2nd order polynomial fits the data reasonably well along with taking into account the simplicity of the model}$\n",
    "\n",
    "$\\textbf{Clearly, in the above plot, 2nd degree polynomial has an elbow point and after that changing degree of polynomial}$\n",
    "\n",
    "$\\textbf{is not changing Residual sum of squares much but is increasing the complexity of the model.}$\n",
    "\n",
    "$\\textbf{Hence, we may conclude that 2nd order polynomial fits the dataset best along with simplicity of model.}$"
   ]
  },
  {
   "cell_type": "markdown",
   "metadata": {},
   "source": [
    "$\\textbf{Conclusion of most appropriate model}$"
   ]
  },
  {
   "cell_type": "code",
   "execution_count": 134,
   "metadata": {
    "collapsed": false
   },
   "outputs": [
    {
     "name": "stdout",
     "output_type": "stream",
     "text": [
      "From the above regression fits for linear, second, third and fourth order polynomials, we may conclude that\n",
      "second order polynomial fits the data reasonably well, taking into account the simplicity of the model as well.\n",
      "\n",
      "From the above plot of RSS versus degree of polynomial, since RSS doesn't change much after 2nd degree polynomial \n",
      "and increasing the degree only increases the model complexity, 2nd degree polynomial is best fit.\n",
      "\n",
      "Best fit model is: y = -1.52 + 0.27x -0.001x^2 where x - lift_kg and y - put_m\n"
     ]
    }
   ],
   "source": [
    "print ('From the above regression fits for linear, second, third and fourth order polynomials, we may conclude that')\n",
    "print('second order polynomial fits the data reasonably well, taking into account the simplicity of the model as well.')\n",
    "print ('\\nFrom the above plot of RSS versus degree of polynomial, since RSS doesn\\'t change much after 2nd degree polynomial ')\n",
    "print ('and increasing the degree only increases the model complexity, 2nd degree polynomial is best fit.')\n",
    "print ('\\nBest fit model is: y = -1.52 + 0.27x -0.001x^2 where x - lift_kg and y - put_m' )"
   ]
  },
  {
   "cell_type": "markdown",
   "metadata": {},
   "source": [
    "$\\textbf{Question 2 Part 2 - Logistic Regression}$"
   ]
  },
  {
   "cell_type": "code",
   "execution_count": null,
   "metadata": {
    "collapsed": true
   },
   "outputs": [],
   "source": [
    "#Trying to fit the model using Logistic Regression\n",
    "logistic = LogisticRegression()\n",
    "logistic.fit(X,Y) \n",
    "#We will get an error since the response variable Y has continous/numerical data rather than categorical data"
   ]
  },
  {
   "cell_type": "markdown",
   "metadata": {},
   "source": [
    "$\\textbf{Conclusion about Logistic Regression}$"
   ]
  },
  {
   "cell_type": "code",
   "execution_count": 142,
   "metadata": {
    "collapsed": false
   },
   "outputs": [
    {
     "name": "stdout",
     "output_type": "stream",
     "text": [
      "Logistic Regression can be used when the response variable is categorical i.e. it take finite number of discrete\n",
      "values but the given data set has response variable values as numerical data.\n",
      "\n",
      "Hence, we conclude that Logistic regression cannot be used to fit the given dataset.\n"
     ]
    }
   ],
   "source": [
    "print ('Logistic Regression can be used when the response variable is categorical i.e. it take finite number of discrete')\n",
    "print ('values but the given data set has response variable values as numerical data.')\n",
    "print('\\nHence, we conclude that Logistic regression cannot be used to fit the given dataset.')"
   ]
  },
  {
   "cell_type": "markdown",
   "metadata": {},
   "source": [
    "$\\textbf{Question 2 Part 3 }$"
   ]
  },
  {
   "cell_type": "code",
   "execution_count": 138,
   "metadata": {
    "collapsed": false
   },
   "outputs": [
    {
     "name": "stdout",
     "output_type": "stream",
     "text": [
      "According to above discussion, we see that second order polynomial regression fit is the best out of all tried choices.\n",
      "It takes into account fitting the model well in terms of RSS values and simplicity of the model.\n"
     ]
    }
   ],
   "source": [
    "print ('According to above discussion, we see that second order polynomial regression fit is the best out of all tried choices.')\n",
    "print('It takes into account fitting the model well in terms of RSS values and simplicity of the model.')"
   ]
  },
  {
   "cell_type": "code",
   "execution_count": 143,
   "metadata": {
    "collapsed": false
   },
   "outputs": [
    {
     "name": "stdout",
     "output_type": "stream",
     "text": [
      "Plots for linear and polynomial fits are given above. Logistic regression cannot be used to fit the data.\n",
      "\n",
      "RSS for various models we fit are as follows:\n",
      "Simple Linear Regression model:  94.5794789741\n",
      "Second order polynomial regression model:  51.0810573979\n",
      "Third order polynomial regression model:  44.5729109596\n",
      "Fourth order polynomial regression model:  44.4651118142\n"
     ]
    }
   ],
   "source": [
    "print ('Plots for linear and polynomial fits are given above. Logistic regression cannot be used to fit the data.')\n",
    "print ('\\nRSS for various models we fit are as follows:')\n",
    "print('Simple Linear Regression model: ', rss_list[0])\n",
    "print('Second order polynomial regression model: ', rss_list[1])\n",
    "print('Third order polynomial regression model: ', rss_list[2])\n",
    "print('Fourth order polynomial regression model: ', rss_list[3])"
   ]
  },
  {
   "cell_type": "code",
   "execution_count": null,
   "metadata": {
    "collapsed": true
   },
   "outputs": [],
   "source": []
  }
 ],
 "metadata": {
  "kernelspec": {
   "display_name": "Python 3",
   "language": "python",
   "name": "python3"
  },
  "language_info": {
   "codemirror_mode": {
    "name": "ipython",
    "version": 3
   },
   "file_extension": ".py",
   "mimetype": "text/x-python",
   "name": "python",
   "nbconvert_exporter": "python",
   "pygments_lexer": "ipython3",
   "version": "3.6.0"
  }
 },
 "nbformat": 4,
 "nbformat_minor": 2
}
