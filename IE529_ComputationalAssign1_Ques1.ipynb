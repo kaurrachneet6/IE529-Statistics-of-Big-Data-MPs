{
 "cells": [
  {
   "cell_type": "markdown",
   "metadata": {},
   "source": [
    "$\\textbf{IE529 Computational Assignment 1 Question 1}$\n",
    "\n",
    "$\\textbf{Principal Component Analysis}$"
   ]
  },
  {
   "cell_type": "code",
   "execution_count": null,
   "metadata": {
    "collapsed": true
   },
   "outputs": [],
   "source": [
    "import pandas as pd\n",
    "import numpy as np\n",
    "import matplotlib.pyplot as plt"
   ]
  },
  {
   "cell_type": "code",
   "execution_count": 7,
   "metadata": {
    "collapsed": false
   },
   "outputs": [],
   "source": [
    "#Reading the data\n",
    "data=pd.read_csv('CompPCA.csv',names=['Sepal Length', 'Sepal Width', 'Petal Length','Petal Width'])"
   ]
  },
  {
   "cell_type": "code",
   "execution_count": 24,
   "metadata": {
    "collapsed": false
   },
   "outputs": [
    {
     "data": {
      "text/html": [
       "<div>\n",
       "<table border=\"1\" class=\"dataframe\">\n",
       "  <thead>\n",
       "    <tr style=\"text-align: right;\">\n",
       "      <th></th>\n",
       "      <th>Sepal Length</th>\n",
       "      <th>Sepal Width</th>\n",
       "      <th>Petal Length</th>\n",
       "      <th>Petal Width</th>\n",
       "    </tr>\n",
       "  </thead>\n",
       "  <tbody>\n",
       "    <tr>\n",
       "      <th>0</th>\n",
       "      <td>5.1</td>\n",
       "      <td>3.5</td>\n",
       "      <td>1.4</td>\n",
       "      <td>0.2</td>\n",
       "    </tr>\n",
       "    <tr>\n",
       "      <th>1</th>\n",
       "      <td>4.9</td>\n",
       "      <td>3.0</td>\n",
       "      <td>1.4</td>\n",
       "      <td>0.2</td>\n",
       "    </tr>\n",
       "    <tr>\n",
       "      <th>2</th>\n",
       "      <td>4.7</td>\n",
       "      <td>3.2</td>\n",
       "      <td>1.3</td>\n",
       "      <td>0.2</td>\n",
       "    </tr>\n",
       "    <tr>\n",
       "      <th>3</th>\n",
       "      <td>4.6</td>\n",
       "      <td>3.1</td>\n",
       "      <td>1.5</td>\n",
       "      <td>0.2</td>\n",
       "    </tr>\n",
       "    <tr>\n",
       "      <th>4</th>\n",
       "      <td>5.0</td>\n",
       "      <td>3.6</td>\n",
       "      <td>1.4</td>\n",
       "      <td>0.2</td>\n",
       "    </tr>\n",
       "    <tr>\n",
       "      <th>5</th>\n",
       "      <td>5.4</td>\n",
       "      <td>3.9</td>\n",
       "      <td>1.7</td>\n",
       "      <td>0.4</td>\n",
       "    </tr>\n",
       "    <tr>\n",
       "      <th>6</th>\n",
       "      <td>4.6</td>\n",
       "      <td>3.4</td>\n",
       "      <td>1.4</td>\n",
       "      <td>0.3</td>\n",
       "    </tr>\n",
       "    <tr>\n",
       "      <th>7</th>\n",
       "      <td>5.0</td>\n",
       "      <td>3.4</td>\n",
       "      <td>1.5</td>\n",
       "      <td>0.2</td>\n",
       "    </tr>\n",
       "    <tr>\n",
       "      <th>8</th>\n",
       "      <td>4.4</td>\n",
       "      <td>2.9</td>\n",
       "      <td>1.4</td>\n",
       "      <td>0.2</td>\n",
       "    </tr>\n",
       "    <tr>\n",
       "      <th>9</th>\n",
       "      <td>4.9</td>\n",
       "      <td>3.1</td>\n",
       "      <td>1.5</td>\n",
       "      <td>0.1</td>\n",
       "    </tr>\n",
       "    <tr>\n",
       "      <th>10</th>\n",
       "      <td>5.4</td>\n",
       "      <td>3.7</td>\n",
       "      <td>1.5</td>\n",
       "      <td>0.2</td>\n",
       "    </tr>\n",
       "    <tr>\n",
       "      <th>11</th>\n",
       "      <td>4.8</td>\n",
       "      <td>3.4</td>\n",
       "      <td>1.6</td>\n",
       "      <td>0.2</td>\n",
       "    </tr>\n",
       "    <tr>\n",
       "      <th>12</th>\n",
       "      <td>4.8</td>\n",
       "      <td>3.0</td>\n",
       "      <td>1.4</td>\n",
       "      <td>0.1</td>\n",
       "    </tr>\n",
       "    <tr>\n",
       "      <th>13</th>\n",
       "      <td>4.3</td>\n",
       "      <td>3.0</td>\n",
       "      <td>1.1</td>\n",
       "      <td>0.1</td>\n",
       "    </tr>\n",
       "    <tr>\n",
       "      <th>14</th>\n",
       "      <td>5.8</td>\n",
       "      <td>4.0</td>\n",
       "      <td>1.2</td>\n",
       "      <td>0.2</td>\n",
       "    </tr>\n",
       "    <tr>\n",
       "      <th>15</th>\n",
       "      <td>5.7</td>\n",
       "      <td>4.4</td>\n",
       "      <td>1.5</td>\n",
       "      <td>0.4</td>\n",
       "    </tr>\n",
       "    <tr>\n",
       "      <th>16</th>\n",
       "      <td>5.4</td>\n",
       "      <td>3.9</td>\n",
       "      <td>1.3</td>\n",
       "      <td>0.4</td>\n",
       "    </tr>\n",
       "    <tr>\n",
       "      <th>17</th>\n",
       "      <td>5.1</td>\n",
       "      <td>3.5</td>\n",
       "      <td>1.4</td>\n",
       "      <td>0.3</td>\n",
       "    </tr>\n",
       "    <tr>\n",
       "      <th>18</th>\n",
       "      <td>5.7</td>\n",
       "      <td>3.8</td>\n",
       "      <td>1.7</td>\n",
       "      <td>0.3</td>\n",
       "    </tr>\n",
       "    <tr>\n",
       "      <th>19</th>\n",
       "      <td>5.1</td>\n",
       "      <td>3.8</td>\n",
       "      <td>1.5</td>\n",
       "      <td>0.3</td>\n",
       "    </tr>\n",
       "    <tr>\n",
       "      <th>20</th>\n",
       "      <td>5.4</td>\n",
       "      <td>3.4</td>\n",
       "      <td>1.7</td>\n",
       "      <td>0.2</td>\n",
       "    </tr>\n",
       "    <tr>\n",
       "      <th>21</th>\n",
       "      <td>5.1</td>\n",
       "      <td>3.7</td>\n",
       "      <td>1.5</td>\n",
       "      <td>0.4</td>\n",
       "    </tr>\n",
       "    <tr>\n",
       "      <th>22</th>\n",
       "      <td>4.6</td>\n",
       "      <td>3.6</td>\n",
       "      <td>1.0</td>\n",
       "      <td>0.2</td>\n",
       "    </tr>\n",
       "    <tr>\n",
       "      <th>23</th>\n",
       "      <td>5.1</td>\n",
       "      <td>3.3</td>\n",
       "      <td>1.7</td>\n",
       "      <td>0.5</td>\n",
       "    </tr>\n",
       "    <tr>\n",
       "      <th>24</th>\n",
       "      <td>4.8</td>\n",
       "      <td>3.4</td>\n",
       "      <td>1.9</td>\n",
       "      <td>0.2</td>\n",
       "    </tr>\n",
       "    <tr>\n",
       "      <th>25</th>\n",
       "      <td>5.0</td>\n",
       "      <td>3.0</td>\n",
       "      <td>1.6</td>\n",
       "      <td>0.2</td>\n",
       "    </tr>\n",
       "    <tr>\n",
       "      <th>26</th>\n",
       "      <td>5.0</td>\n",
       "      <td>3.4</td>\n",
       "      <td>1.6</td>\n",
       "      <td>0.4</td>\n",
       "    </tr>\n",
       "    <tr>\n",
       "      <th>27</th>\n",
       "      <td>5.2</td>\n",
       "      <td>3.5</td>\n",
       "      <td>1.5</td>\n",
       "      <td>0.2</td>\n",
       "    </tr>\n",
       "    <tr>\n",
       "      <th>28</th>\n",
       "      <td>5.2</td>\n",
       "      <td>3.4</td>\n",
       "      <td>1.4</td>\n",
       "      <td>0.2</td>\n",
       "    </tr>\n",
       "    <tr>\n",
       "      <th>29</th>\n",
       "      <td>4.7</td>\n",
       "      <td>3.2</td>\n",
       "      <td>1.6</td>\n",
       "      <td>0.2</td>\n",
       "    </tr>\n",
       "    <tr>\n",
       "      <th>...</th>\n",
       "      <td>...</td>\n",
       "      <td>...</td>\n",
       "      <td>...</td>\n",
       "      <td>...</td>\n",
       "    </tr>\n",
       "    <tr>\n",
       "      <th>120</th>\n",
       "      <td>6.9</td>\n",
       "      <td>3.2</td>\n",
       "      <td>5.7</td>\n",
       "      <td>2.3</td>\n",
       "    </tr>\n",
       "    <tr>\n",
       "      <th>121</th>\n",
       "      <td>5.6</td>\n",
       "      <td>2.8</td>\n",
       "      <td>4.9</td>\n",
       "      <td>2.0</td>\n",
       "    </tr>\n",
       "    <tr>\n",
       "      <th>122</th>\n",
       "      <td>7.7</td>\n",
       "      <td>2.8</td>\n",
       "      <td>6.7</td>\n",
       "      <td>2.0</td>\n",
       "    </tr>\n",
       "    <tr>\n",
       "      <th>123</th>\n",
       "      <td>6.3</td>\n",
       "      <td>2.7</td>\n",
       "      <td>4.9</td>\n",
       "      <td>1.8</td>\n",
       "    </tr>\n",
       "    <tr>\n",
       "      <th>124</th>\n",
       "      <td>6.7</td>\n",
       "      <td>3.3</td>\n",
       "      <td>5.7</td>\n",
       "      <td>2.1</td>\n",
       "    </tr>\n",
       "    <tr>\n",
       "      <th>125</th>\n",
       "      <td>7.2</td>\n",
       "      <td>3.2</td>\n",
       "      <td>6.0</td>\n",
       "      <td>1.8</td>\n",
       "    </tr>\n",
       "    <tr>\n",
       "      <th>126</th>\n",
       "      <td>6.2</td>\n",
       "      <td>2.8</td>\n",
       "      <td>4.8</td>\n",
       "      <td>1.8</td>\n",
       "    </tr>\n",
       "    <tr>\n",
       "      <th>127</th>\n",
       "      <td>6.1</td>\n",
       "      <td>3.0</td>\n",
       "      <td>4.9</td>\n",
       "      <td>1.8</td>\n",
       "    </tr>\n",
       "    <tr>\n",
       "      <th>128</th>\n",
       "      <td>6.4</td>\n",
       "      <td>2.8</td>\n",
       "      <td>5.6</td>\n",
       "      <td>2.1</td>\n",
       "    </tr>\n",
       "    <tr>\n",
       "      <th>129</th>\n",
       "      <td>7.2</td>\n",
       "      <td>3.0</td>\n",
       "      <td>5.8</td>\n",
       "      <td>1.6</td>\n",
       "    </tr>\n",
       "    <tr>\n",
       "      <th>130</th>\n",
       "      <td>7.4</td>\n",
       "      <td>2.8</td>\n",
       "      <td>6.1</td>\n",
       "      <td>1.9</td>\n",
       "    </tr>\n",
       "    <tr>\n",
       "      <th>131</th>\n",
       "      <td>7.9</td>\n",
       "      <td>3.8</td>\n",
       "      <td>6.4</td>\n",
       "      <td>2.0</td>\n",
       "    </tr>\n",
       "    <tr>\n",
       "      <th>132</th>\n",
       "      <td>6.4</td>\n",
       "      <td>2.8</td>\n",
       "      <td>5.6</td>\n",
       "      <td>2.2</td>\n",
       "    </tr>\n",
       "    <tr>\n",
       "      <th>133</th>\n",
       "      <td>6.3</td>\n",
       "      <td>2.8</td>\n",
       "      <td>5.1</td>\n",
       "      <td>1.5</td>\n",
       "    </tr>\n",
       "    <tr>\n",
       "      <th>134</th>\n",
       "      <td>6.1</td>\n",
       "      <td>2.6</td>\n",
       "      <td>5.6</td>\n",
       "      <td>1.4</td>\n",
       "    </tr>\n",
       "    <tr>\n",
       "      <th>135</th>\n",
       "      <td>7.7</td>\n",
       "      <td>3.0</td>\n",
       "      <td>6.1</td>\n",
       "      <td>2.3</td>\n",
       "    </tr>\n",
       "    <tr>\n",
       "      <th>136</th>\n",
       "      <td>6.3</td>\n",
       "      <td>3.4</td>\n",
       "      <td>5.6</td>\n",
       "      <td>2.4</td>\n",
       "    </tr>\n",
       "    <tr>\n",
       "      <th>137</th>\n",
       "      <td>6.4</td>\n",
       "      <td>3.1</td>\n",
       "      <td>5.5</td>\n",
       "      <td>1.8</td>\n",
       "    </tr>\n",
       "    <tr>\n",
       "      <th>138</th>\n",
       "      <td>6.0</td>\n",
       "      <td>3.0</td>\n",
       "      <td>4.8</td>\n",
       "      <td>1.8</td>\n",
       "    </tr>\n",
       "    <tr>\n",
       "      <th>139</th>\n",
       "      <td>6.9</td>\n",
       "      <td>3.1</td>\n",
       "      <td>5.4</td>\n",
       "      <td>2.1</td>\n",
       "    </tr>\n",
       "    <tr>\n",
       "      <th>140</th>\n",
       "      <td>6.7</td>\n",
       "      <td>3.1</td>\n",
       "      <td>5.6</td>\n",
       "      <td>2.4</td>\n",
       "    </tr>\n",
       "    <tr>\n",
       "      <th>141</th>\n",
       "      <td>6.9</td>\n",
       "      <td>3.1</td>\n",
       "      <td>5.1</td>\n",
       "      <td>2.3</td>\n",
       "    </tr>\n",
       "    <tr>\n",
       "      <th>142</th>\n",
       "      <td>5.8</td>\n",
       "      <td>2.7</td>\n",
       "      <td>5.1</td>\n",
       "      <td>1.9</td>\n",
       "    </tr>\n",
       "    <tr>\n",
       "      <th>143</th>\n",
       "      <td>6.8</td>\n",
       "      <td>3.2</td>\n",
       "      <td>5.9</td>\n",
       "      <td>2.3</td>\n",
       "    </tr>\n",
       "    <tr>\n",
       "      <th>144</th>\n",
       "      <td>6.7</td>\n",
       "      <td>3.3</td>\n",
       "      <td>5.7</td>\n",
       "      <td>2.5</td>\n",
       "    </tr>\n",
       "    <tr>\n",
       "      <th>145</th>\n",
       "      <td>6.7</td>\n",
       "      <td>3.0</td>\n",
       "      <td>5.2</td>\n",
       "      <td>2.3</td>\n",
       "    </tr>\n",
       "    <tr>\n",
       "      <th>146</th>\n",
       "      <td>6.3</td>\n",
       "      <td>2.5</td>\n",
       "      <td>5.0</td>\n",
       "      <td>1.9</td>\n",
       "    </tr>\n",
       "    <tr>\n",
       "      <th>147</th>\n",
       "      <td>6.5</td>\n",
       "      <td>3.0</td>\n",
       "      <td>5.2</td>\n",
       "      <td>2.0</td>\n",
       "    </tr>\n",
       "    <tr>\n",
       "      <th>148</th>\n",
       "      <td>6.2</td>\n",
       "      <td>3.4</td>\n",
       "      <td>5.4</td>\n",
       "      <td>2.3</td>\n",
       "    </tr>\n",
       "    <tr>\n",
       "      <th>149</th>\n",
       "      <td>5.9</td>\n",
       "      <td>3.0</td>\n",
       "      <td>5.1</td>\n",
       "      <td>1.8</td>\n",
       "    </tr>\n",
       "  </tbody>\n",
       "</table>\n",
       "<p>150 rows × 4 columns</p>\n",
       "</div>"
      ],
      "text/plain": [
       "     Sepal Length  Sepal Width  Petal Length  Petal Width\n",
       "0             5.1          3.5           1.4          0.2\n",
       "1             4.9          3.0           1.4          0.2\n",
       "2             4.7          3.2           1.3          0.2\n",
       "3             4.6          3.1           1.5          0.2\n",
       "4             5.0          3.6           1.4          0.2\n",
       "5             5.4          3.9           1.7          0.4\n",
       "6             4.6          3.4           1.4          0.3\n",
       "7             5.0          3.4           1.5          0.2\n",
       "8             4.4          2.9           1.4          0.2\n",
       "9             4.9          3.1           1.5          0.1\n",
       "10            5.4          3.7           1.5          0.2\n",
       "11            4.8          3.4           1.6          0.2\n",
       "12            4.8          3.0           1.4          0.1\n",
       "13            4.3          3.0           1.1          0.1\n",
       "14            5.8          4.0           1.2          0.2\n",
       "15            5.7          4.4           1.5          0.4\n",
       "16            5.4          3.9           1.3          0.4\n",
       "17            5.1          3.5           1.4          0.3\n",
       "18            5.7          3.8           1.7          0.3\n",
       "19            5.1          3.8           1.5          0.3\n",
       "20            5.4          3.4           1.7          0.2\n",
       "21            5.1          3.7           1.5          0.4\n",
       "22            4.6          3.6           1.0          0.2\n",
       "23            5.1          3.3           1.7          0.5\n",
       "24            4.8          3.4           1.9          0.2\n",
       "25            5.0          3.0           1.6          0.2\n",
       "26            5.0          3.4           1.6          0.4\n",
       "27            5.2          3.5           1.5          0.2\n",
       "28            5.2          3.4           1.4          0.2\n",
       "29            4.7          3.2           1.6          0.2\n",
       "..            ...          ...           ...          ...\n",
       "120           6.9          3.2           5.7          2.3\n",
       "121           5.6          2.8           4.9          2.0\n",
       "122           7.7          2.8           6.7          2.0\n",
       "123           6.3          2.7           4.9          1.8\n",
       "124           6.7          3.3           5.7          2.1\n",
       "125           7.2          3.2           6.0          1.8\n",
       "126           6.2          2.8           4.8          1.8\n",
       "127           6.1          3.0           4.9          1.8\n",
       "128           6.4          2.8           5.6          2.1\n",
       "129           7.2          3.0           5.8          1.6\n",
       "130           7.4          2.8           6.1          1.9\n",
       "131           7.9          3.8           6.4          2.0\n",
       "132           6.4          2.8           5.6          2.2\n",
       "133           6.3          2.8           5.1          1.5\n",
       "134           6.1          2.6           5.6          1.4\n",
       "135           7.7          3.0           6.1          2.3\n",
       "136           6.3          3.4           5.6          2.4\n",
       "137           6.4          3.1           5.5          1.8\n",
       "138           6.0          3.0           4.8          1.8\n",
       "139           6.9          3.1           5.4          2.1\n",
       "140           6.7          3.1           5.6          2.4\n",
       "141           6.9          3.1           5.1          2.3\n",
       "142           5.8          2.7           5.1          1.9\n",
       "143           6.8          3.2           5.9          2.3\n",
       "144           6.7          3.3           5.7          2.5\n",
       "145           6.7          3.0           5.2          2.3\n",
       "146           6.3          2.5           5.0          1.9\n",
       "147           6.5          3.0           5.2          2.0\n",
       "148           6.2          3.4           5.4          2.3\n",
       "149           5.9          3.0           5.1          1.8\n",
       "\n",
       "[150 rows x 4 columns]"
      ]
     },
     "execution_count": 24,
     "metadata": {},
     "output_type": "execute_result"
    }
   ],
   "source": [
    "#Data with 150 samples and 4 features\n",
    "data"
   ]
  },
  {
   "cell_type": "markdown",
   "metadata": {},
   "source": [
    "$\\textbf{Question 1 Part 1 }$\n",
    "\n",
    "$\\textbf{Performing the PCA }$"
   ]
  },
  {
   "cell_type": "code",
   "execution_count": 22,
   "metadata": {
    "collapsed": false
   },
   "outputs": [
    {
     "name": "stdout",
     "output_type": "stream",
     "text": [
      "First Principal component is:\n",
      " [ 0.36158968 -0.08226889  0.85657211  0.35884393]\n",
      "\n",
      "Second Principal component is:\n",
      " [-0.65653988 -0.72971237  0.1757674   0.07470647]\n",
      "\n",
      "Third Principal component is:\n",
      " [-0.58099728  0.59641809  0.07252408  0.54906091]\n",
      "\n",
      "Fourth Principal component is:\n",
      " [ 0.31725455 -0.32409435 -0.47971899  0.75112056]\n"
     ]
    }
   ],
   "source": [
    "#Question 1 Part 1\n",
    "\n",
    "#De-mean the data using coloumn means \n",
    "De_mean= data- data.mean(axis = 0)\n",
    "\n",
    "#Scaling the data by sqrt(n-1)\n",
    "X = 1/np.sqrt(149)*De_mean\n",
    "\n",
    "#Computing the covariance matrix X^T.X\n",
    "cov = np.dot(np.transpose(X),X)\n",
    "\n",
    "#Computing the eigen values and eigen vectors for covariance matrix\n",
    "eig_val,eig_vecs = np.linalg.eig(cov)\n",
    "\n",
    "#The eigen vectors of the covariance matrix for the de-meaned data give the Principal components \n",
    "print ('First Principal component is:\\n', eig_vecs[:,0])\n",
    "print ('\\nSecond Principal component is:\\n', eig_vecs[:,1])\n",
    "print ('\\nThird Principal component is:\\n', eig_vecs[:,2])\n",
    "print ('\\nFourth Principal component is:\\n', eig_vecs[:,3])"
   ]
  },
  {
   "cell_type": "markdown",
   "metadata": {},
   "source": [
    "$\\textbf{Matrix with 4 PCs and their associated variances}$"
   ]
  },
  {
   "cell_type": "code",
   "execution_count": 65,
   "metadata": {
    "collapsed": false
   },
   "outputs": [
    {
     "name": "stdout",
     "output_type": "stream",
     "text": [
      "Matrix with 4 PCs:\n",
      " [[ 0.36158968 -0.65653988 -0.58099728  0.31725455]\n",
      " [-0.08226889 -0.72971237  0.59641809 -0.32409435]\n",
      " [ 0.85657211  0.1757674   0.07252408 -0.47971899]\n",
      " [ 0.35884393  0.07470647  0.54906091  0.75112056]]\n"
     ]
    }
   ],
   "source": [
    "#Matrix with four PCs\n",
    "print ('Matrix with 4 PCs:\\n', eig_vecs)"
   ]
  },
  {
   "cell_type": "code",
   "execution_count": 63,
   "metadata": {
    "collapsed": false
   },
   "outputs": [
    {
     "name": "stdout",
     "output_type": "stream",
     "text": [
      "Eigenvalues of the Covariance Matrix are: [ 4.22484077  0.24224357  0.07852391  0.02368303]\n"
     ]
    }
   ],
   "source": [
    "#Eigenvalues of the Covariance matrix\n",
    "#Variance in the Principal components\n",
    "print ('Eigenvalues of the Covariance Matrix are:', eig_val)"
   ]
  },
  {
   "cell_type": "markdown",
   "metadata": {},
   "source": [
    "$\\textbf{Question 1 Part 2 }$\n",
    "\n",
    "$\\textbf{Portion of variance in each of the PCs }$"
   ]
  },
  {
   "cell_type": "code",
   "execution_count": 50,
   "metadata": {
    "collapsed": false
   },
   "outputs": [
    {
     "name": "stdout",
     "output_type": "stream",
     "text": [
      "Portion of variance in First PC: 0.924616207174\n",
      "\n",
      "Portion of variance in Second PC: 0.0530155678505\n",
      "\n",
      "Portion of variance in Third PC: 0.017185139525\n",
      "\n",
      "Portion of variance in Fourth PC: 0.00518308545019\n",
      "\n",
      "We can observe that 92.46% of variance in data is contained in the first PC and other components have very\n",
      "less portion of variance.\n",
      "Hence, We can conclude that only 1 true component is needed to represent the data.\n"
     ]
    }
   ],
   "source": [
    "#Question 1 Part 2\n",
    "#Portion of the variance contained in each of the PCs\n",
    "\n",
    "'''\n",
    "Ratio of each eigen value to the total sum of all eigen values \n",
    "gives portion of variance explained by each PC\n",
    "'''\n",
    "\n",
    "var_portion = eig_val/eig_val.sum()\n",
    "\n",
    "print ('Portion of variance in First PC:', var_portion[0])\n",
    "print ('\\nPortion of variance in Second PC:', var_portion[1])\n",
    "print ('\\nPortion of variance in Third PC:', var_portion[2])\n",
    "print ('\\nPortion of variance in Fourth PC:', var_portion[3])\n",
    "\n",
    "#True components needed to represent the data\n",
    "print ('\\nWe can observe that 92.46% of variance in data is contained in the first PC and other components have very')\n",
    "print ('less portion of variance.')\n",
    "print ('Hence, We can conclude that only 1 true component is needed to represent the data.')"
   ]
  },
  {
   "cell_type": "markdown",
   "metadata": {},
   "source": [
    "$\\textbf{Question 1 Part 3 }$\n",
    "\n",
    "$\\textbf{2D representation of the data }$"
   ]
  },
  {
   "cell_type": "code",
   "execution_count": 70,
   "metadata": {
    "collapsed": false
   },
   "outputs": [
    {
     "data": {
      "image/png": "[encoded data removed]",
      "text/plain": [
       "<matplotlib.figure.Figure at 0x16c8053bfd0>"
      ]
     },
     "metadata": {},
     "output_type": "display_data"
    }
   ],
   "source": [
    "#Question 1 Part 3\n",
    "#2D representation of the data\n",
    "\n",
    "'''\n",
    "For the 2D representation for the data points, we need to use the first 2 PCs only\n",
    "'''\n",
    "\n",
    "rep2D = np.dot(X,eig_vecs[:,0:2])\n",
    "plt.plot(rep2D[:,0], rep2D[:,1], 'ob')\n",
    "plt.xlabel('First PC --------->')\n",
    "plt.ylabel('Second PC --------->')\n",
    "plt.title('2-D representation plot for the data points using first and second PCs for de-meaned data set ')\n",
    "plt.show()"
   ]
  },
  {
   "cell_type": "markdown",
   "metadata": {},
   "source": [
    "$\\textbf{Discussion of the plot}$"
   ]
  },
  {
   "cell_type": "code",
   "execution_count": 51,
   "metadata": {
    "collapsed": false
   },
   "outputs": [
    {
     "name": "stdout",
     "output_type": "stream",
     "text": [
      "(a) Yes, from the above plot of 2D represenatation of data, we have two visually apparent clusters.\n",
      "\n",
      "(b) Since from Part (2) above, first 2 PCs represent most variance of the data, and we clearly have\n",
      "two apparent cluster in the data when we plot the first 2 PCS, we may conjecture that there are mainly 2 distinct \n",
      "species represented by the data.\n",
      "\n"
     ]
    }
   ],
   "source": [
    "#Question 1 Part 3\n",
    "#Discussion of the plot\n",
    "\n",
    "print ('(a) Yes, from the above plot of 2D represenatation of data, we have two visually apparent clusters.\\n')\n",
    "print ('(b) Since from Part (2) above, first 2 PCs represent most variance of the data, and we clearly have')\n",
    "print ('two apparent cluster in the data when we plot the first 2 PCS, we may conjecture that there are mainly 2 distinct ')\n",
    "print ('species represented by the data.\\n')"
   ]
  },
  {
   "cell_type": "markdown",
   "metadata": {},
   "source": [
    "$\\textbf{Question 1 Part 4 }$"
   ]
  },
  {
   "cell_type": "markdown",
   "metadata": {},
   "source": [
    "$\\textbf{PCA with standardized data}$"
   ]
  },
  {
   "cell_type": "code",
   "execution_count": 52,
   "metadata": {
    "collapsed": false
   },
   "outputs": [
    {
     "name": "stdout",
     "output_type": "stream",
     "text": [
      "First Principal component is:\n",
      " [ 0.52237162 -0.26335492  0.58125401  0.56561105]\n",
      "\n",
      "Second Principal component is:\n",
      " [-0.37231836 -0.92555649 -0.02109478 -0.06541577]\n",
      "\n",
      "Third Principal component is:\n",
      " [-0.72101681  0.24203288  0.14089226  0.6338014 ]\n",
      "\n",
      "Fourth Principal component is:\n",
      " [ 0.26199559 -0.12413481 -0.80115427  0.52354627]\n"
     ]
    }
   ],
   "source": [
    "#Question 1 Part 4\n",
    "#PCA with standardization\n",
    "\n",
    "#Divide by Standard Deviation the de-meaned data using coloumn Standard Deviations\n",
    "Standard = De_mean/De_mean.std(axis=0)\n",
    "\n",
    "#Scaling the data by sqrt(n-1)\n",
    "X_standard = 1/np.sqrt(149)*Standard\n",
    "\n",
    "#Computing the covariance matrix standardized matrix X^T.X\n",
    "cov_standard = np.dot(np.transpose(X_standard),X_standard)\n",
    "\n",
    "#Computing the eigen values and eigen vectors for covariance matrix\n",
    "eig_val_std,eig_vecs_std = np.linalg.eig(cov_standard)\n",
    "\n",
    "#The eigen vectors of the covariance matrix for the de-meaned data give the Principal components \n",
    "print ('First Principal component is:\\n', eig_vecs_std[:,0])\n",
    "print ('\\nSecond Principal component is:\\n', eig_vecs_std[:,1])\n",
    "print ('\\nThird Principal component is:\\n', eig_vecs_std[:,2])\n",
    "print ('\\nFourth Principal component is:\\n', eig_vecs_std[:,3])"
   ]
  },
  {
   "cell_type": "markdown",
   "metadata": {},
   "source": [
    "$\\textbf{Matrix with 4 PCs and their associated variance}$"
   ]
  },
  {
   "cell_type": "code",
   "execution_count": 66,
   "metadata": {
    "collapsed": false
   },
   "outputs": [
    {
     "name": "stdout",
     "output_type": "stream",
     "text": [
      "Matrix with 4 PCs:\n",
      " [[ 0.52237162 -0.37231836 -0.72101681  0.26199559]\n",
      " [-0.26335492 -0.92555649  0.24203288 -0.12413481]\n",
      " [ 0.58125401 -0.02109478  0.14089226 -0.80115427]\n",
      " [ 0.56561105 -0.06541577  0.6338014   0.52354627]]\n"
     ]
    }
   ],
   "source": [
    "#Matrix with four PCs\n",
    "print ('Matrix with 4 PCs:\\n', eig_vecs_std)"
   ]
  },
  {
   "cell_type": "code",
   "execution_count": 68,
   "metadata": {
    "collapsed": false
   },
   "outputs": [
    {
     "name": "stdout",
     "output_type": "stream",
     "text": [
      "Eigenvalues of the Covariance Matrix are: [ 2.91081808  0.92122093  0.14735328  0.02060771]\n"
     ]
    }
   ],
   "source": [
    "#Eigenvalues of the Covariance matrix\n",
    "#Variance in the Principal components\n",
    "print ('Eigenvalues of the Covariance Matrix are:', eig_val_std)"
   ]
  },
  {
   "cell_type": "markdown",
   "metadata": {},
   "source": [
    "$\\textbf{Portion of the variance contained in each of the PCs}$"
   ]
  },
  {
   "cell_type": "code",
   "execution_count": 59,
   "metadata": {
    "collapsed": false
   },
   "outputs": [
    {
     "name": "stdout",
     "output_type": "stream",
     "text": [
      "Portion of variance in First PC: 0.727704520938\n",
      "\n",
      "Portion of variance in Second PC: 0.230305232677\n",
      "\n",
      "Portion of variance in Third PC: 0.0368383195763\n",
      "\n",
      "Portion of variance in Fourth PC: 0.00515192680891\n",
      "\n",
      "We can observe that 72.77% of variance in data is contained in the first PC, 23.03% of variance in data\n",
      "is contained in the second PC and other components have very less portion of variance.\n",
      "\n",
      "Hence, We can conclude that only 2 true components are needed to represent the data, together containing\n",
      "95.8% of variance in data\n"
     ]
    }
   ],
   "source": [
    "#Portion of the variance contained in each of the PCs\n",
    "\n",
    "'''\n",
    "Ratio of each eigen value to the total sum of all eigen values \n",
    "gives portion of variance explained by each PC\n",
    "'''\n",
    "\n",
    "var_portion_std = eig_val_std/eig_val_std.sum()\n",
    "\n",
    "print ('Portion of variance in First PC:', var_portion_std[0])\n",
    "print ('\\nPortion of variance in Second PC:', var_portion_std[1])\n",
    "print ('\\nPortion of variance in Third PC:', var_portion_std[2])\n",
    "print ('\\nPortion of variance in Fourth PC:', var_portion_std[3])\n",
    "\n",
    "#True components needed to represent the data\n",
    "print ('\\nWe can observe that 72.77% of variance in data is contained in the first PC, 23.03% of variance in data')\n",
    "print ('is contained in the second PC and other components have very less portion of variance.')\n",
    "print ('\\nHence, We can conclude that only 2 true components are needed to represent the data, together containing')\n",
    "print ('95.8% of variance in data')"
   ]
  },
  {
   "cell_type": "markdown",
   "metadata": {},
   "source": [
    "$\\textbf{2-D representation of the data}$"
   ]
  },
  {
   "cell_type": "code",
   "execution_count": 69,
   "metadata": {
    "collapsed": false
   },
   "outputs": [
    {
     "data": {
      "image/png": "[encoded data removed]",
      "text/plain": [
       "<matplotlib.figure.Figure at 0x16cfff6a208>"
      ]
     },
     "metadata": {},
     "output_type": "display_data"
    }
   ],
   "source": [
    "#2D representation of the data\n",
    "\n",
    "'''\n",
    "For the 2D representation for the data points, we need to use the first 2 PCs only\n",
    "'''\n",
    "\n",
    "rep2D_std = np.dot(X,eig_vecs_std[:,0:2])\n",
    "plt.plot(rep2D_std[:,0], rep2D_std[:,1], 'ob')\n",
    "plt.xlabel('First PC --------->')\n",
    "plt.ylabel('Second PC --------->')\n",
    "plt.title('2-D representation plot for the data points using first and second PCs for standardized dataset ')\n",
    "plt.show()"
   ]
  },
  {
   "cell_type": "markdown",
   "metadata": {},
   "source": [
    "$\\textbf{Discussion of the plot}$"
   ]
  },
  {
   "cell_type": "code",
   "execution_count": 62,
   "metadata": {
    "collapsed": false
   },
   "outputs": [
    {
     "name": "stdout",
     "output_type": "stream",
     "text": [
      "(a) Yes, from the above plot of 2D represenatation of data, we have two visually apparent clusters.\n",
      "\n",
      "(b) Since from Part (2) above, first 2 PCs represent most variance of the data, and we clearly have\n",
      "two apparent cluster in the data when we plot the first 2 PCS, we may conjecture that there are mainly 2 distinct \n",
      "species represented by the data.\n",
      "\n"
     ]
    }
   ],
   "source": [
    "#Discussion of the plot\n",
    "\n",
    "print ('(a) Yes, from the above plot of 2D represenatation of data, we have two visually apparent clusters.\\n')\n",
    "print ('(b) Since from Part (2) above, first 2 PCs represent most variance of the data, and we clearly have')\n",
    "print ('two apparent cluster in the data when we plot the first 2 PCS, we may conjecture that there are mainly 2 distinct ')\n",
    "print ('species represented by the data.\\n')"
   ]
  },
  {
   "cell_type": "markdown",
   "metadata": {},
   "source": [
    "$\\textbf{Discussion of both analysis}$"
   ]
  },
  {
   "cell_type": "code",
   "execution_count": 77,
   "metadata": {
    "collapsed": false
   },
   "outputs": [
    {
     "name": "stdout",
     "output_type": "stream",
     "text": [
      "Without standardization, first PC contained 92.46% of variance in data and only 1 component was enough to represent data\n",
      "\n",
      "With standardization, first PC contains 72.77% of variance in data, second PC contains 23.03% of variance in data,\n",
      "together containing 95.8% of variance in data and only 2 true components are needed to represent the data\n",
      "\n",
      "In 2D representation of data, we got 2 distinct clusters in both the cases.\n",
      "We may conclude that there are mainly 2 distinct species represented by the data using both the analysis results.\n",
      "\n"
     ]
    }
   ],
   "source": [
    "#True components needed to represent data comparision\n",
    "print ('Without standardization, first PC contained 92.46% of variance in data and only 1 component was enough to represent data')\n",
    "print ('\\nWith standardization, first PC contains 72.77% of variance in data, second PC contains 23.03% of variance in data,')\n",
    "print ('together containing 95.8% of variance in data and only 2 true components are needed to represent the data')\n",
    "\n",
    "#No. of clusters comparision \n",
    "print ('\\nIn 2D representation of data, we got 2 distinct clusters in both the cases.')\n",
    "print ('We may conclude that there are mainly 2 distinct species represented by the data using both the analysis results.\\n')"
   ]
  },
  {
   "cell_type": "code",
   "execution_count": null,
   "metadata": {
    "collapsed": true
   },
   "outputs": [],
   "source": []
  }
 ],
 "metadata": {
  "kernelspec": {
   "display_name": "Python 3",
   "language": "python",
   "name": "python3"
  },
  "language_info": {
   "codemirror_mode": {
    "name": "ipython",
    "version": 3
   },
   "file_extension": ".py",
   "mimetype": "text/x-python",
   "name": "python",
   "nbconvert_exporter": "python",
   "pygments_lexer": "ipython3",
   "version": "3.6.0"
  }
 },
 "nbformat": 4,
 "nbformat_minor": 2
}
